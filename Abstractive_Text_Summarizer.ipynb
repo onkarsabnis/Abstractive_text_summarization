{
 "cells": [
  {
   "cell_type": "code",
   "execution_count": null,
   "metadata": {},
   "outputs": [],
   "source": []
  },
  {
   "cell_type": "code",
   "execution_count": 2,
   "metadata": {},
   "outputs": [],
   "source": [
    "from attention import AttentionLayer"
   ]
  },
  {
   "cell_type": "code",
   "execution_count": 3,
   "metadata": {},
   "outputs": [],
   "source": [
    "##Import the libraries\n",
    "import numpy as np\n",
    "import pandas as pd\n",
    "import re\n",
    "from bs4 import BeautifulSoup\n",
    "\n",
    "from keras.preprocessing.text import Tokenizer \n",
    "from keras.preprocessing.sequence import pad_sequences\n",
    "from nltk.corpus import stopwords   \n",
    "from tensorflow.keras.layers import Input, LSTM, Embedding, Dense, Concatenate, TimeDistributed, Bidirectional\n",
    "from tensorflow.keras.models import Model\n",
    "from tensorflow.keras.callbacks import EarlyStopping"
   ]
  },
  {
   "cell_type": "code",
   "execution_count": 4,
   "metadata": {},
   "outputs": [],
   "source": [
    "df =  pd.read_csv('Reviews.csv')"
   ]
  },
  {
   "cell_type": "code",
   "execution_count": 5,
   "metadata": {},
   "outputs": [
    {
     "data": {
      "text/html": [
       "<div>\n",
       "<style scoped>\n",
       "    .dataframe tbody tr th:only-of-type {\n",
       "        vertical-align: middle;\n",
       "    }\n",
       "\n",
       "    .dataframe tbody tr th {\n",
       "        vertical-align: top;\n",
       "    }\n",
       "\n",
       "    .dataframe thead th {\n",
       "        text-align: right;\n",
       "    }\n",
       "</style>\n",
       "<table border=\"1\" class=\"dataframe\">\n",
       "  <thead>\n",
       "    <tr style=\"text-align: right;\">\n",
       "      <th></th>\n",
       "      <th>Id</th>\n",
       "      <th>ProductId</th>\n",
       "      <th>UserId</th>\n",
       "      <th>ProfileName</th>\n",
       "      <th>HelpfulnessNumerator</th>\n",
       "      <th>HelpfulnessDenominator</th>\n",
       "      <th>Score</th>\n",
       "      <th>Time</th>\n",
       "      <th>Summary</th>\n",
       "      <th>Text</th>\n",
       "    </tr>\n",
       "  </thead>\n",
       "  <tbody>\n",
       "    <tr>\n",
       "      <th>0</th>\n",
       "      <td>1</td>\n",
       "      <td>B001E4KFG0</td>\n",
       "      <td>A3SGXH7AUHU8GW</td>\n",
       "      <td>delmartian</td>\n",
       "      <td>1</td>\n",
       "      <td>1</td>\n",
       "      <td>5</td>\n",
       "      <td>1303862400</td>\n",
       "      <td>Good Quality Dog Food</td>\n",
       "      <td>I have bought several of the Vitality canned d...</td>\n",
       "    </tr>\n",
       "    <tr>\n",
       "      <th>1</th>\n",
       "      <td>2</td>\n",
       "      <td>B00813GRG4</td>\n",
       "      <td>A1D87F6ZCVE5NK</td>\n",
       "      <td>dll pa</td>\n",
       "      <td>0</td>\n",
       "      <td>0</td>\n",
       "      <td>1</td>\n",
       "      <td>1346976000</td>\n",
       "      <td>Not as Advertised</td>\n",
       "      <td>Product arrived labeled as Jumbo Salted Peanut...</td>\n",
       "    </tr>\n",
       "    <tr>\n",
       "      <th>2</th>\n",
       "      <td>3</td>\n",
       "      <td>B000LQOCH0</td>\n",
       "      <td>ABXLMWJIXXAIN</td>\n",
       "      <td>Natalia Corres \"Natalia Corres\"</td>\n",
       "      <td>1</td>\n",
       "      <td>1</td>\n",
       "      <td>4</td>\n",
       "      <td>1219017600</td>\n",
       "      <td>\"Delight\" says it all</td>\n",
       "      <td>This is a confection that has been around a fe...</td>\n",
       "    </tr>\n",
       "    <tr>\n",
       "      <th>3</th>\n",
       "      <td>4</td>\n",
       "      <td>B000UA0QIQ</td>\n",
       "      <td>A395BORC6FGVXV</td>\n",
       "      <td>Karl</td>\n",
       "      <td>3</td>\n",
       "      <td>3</td>\n",
       "      <td>2</td>\n",
       "      <td>1307923200</td>\n",
       "      <td>Cough Medicine</td>\n",
       "      <td>If you are looking for the secret ingredient i...</td>\n",
       "    </tr>\n",
       "    <tr>\n",
       "      <th>4</th>\n",
       "      <td>5</td>\n",
       "      <td>B006K2ZZ7K</td>\n",
       "      <td>A1UQRSCLF8GW1T</td>\n",
       "      <td>Michael D. Bigham \"M. Wassir\"</td>\n",
       "      <td>0</td>\n",
       "      <td>0</td>\n",
       "      <td>5</td>\n",
       "      <td>1350777600</td>\n",
       "      <td>Great taffy</td>\n",
       "      <td>Great taffy at a great price.  There was a wid...</td>\n",
       "    </tr>\n",
       "  </tbody>\n",
       "</table>\n",
       "</div>"
      ],
      "text/plain": [
       "   Id   ProductId          UserId                      ProfileName  \\\n",
       "0   1  B001E4KFG0  A3SGXH7AUHU8GW                       delmartian   \n",
       "1   2  B00813GRG4  A1D87F6ZCVE5NK                           dll pa   \n",
       "2   3  B000LQOCH0   ABXLMWJIXXAIN  Natalia Corres \"Natalia Corres\"   \n",
       "3   4  B000UA0QIQ  A395BORC6FGVXV                             Karl   \n",
       "4   5  B006K2ZZ7K  A1UQRSCLF8GW1T    Michael D. Bigham \"M. Wassir\"   \n",
       "\n",
       "   HelpfulnessNumerator  HelpfulnessDenominator  Score        Time  \\\n",
       "0                     1                       1      5  1303862400   \n",
       "1                     0                       0      1  1346976000   \n",
       "2                     1                       1      4  1219017600   \n",
       "3                     3                       3      2  1307923200   \n",
       "4                     0                       0      5  1350777600   \n",
       "\n",
       "                 Summary                                               Text  \n",
       "0  Good Quality Dog Food  I have bought several of the Vitality canned d...  \n",
       "1      Not as Advertised  Product arrived labeled as Jumbo Salted Peanut...  \n",
       "2  \"Delight\" says it all  This is a confection that has been around a fe...  \n",
       "3         Cough Medicine  If you are looking for the secret ingredient i...  \n",
       "4            Great taffy  Great taffy at a great price.  There was a wid...  "
      ]
     },
     "execution_count": 5,
     "metadata": {},
     "output_type": "execute_result"
    }
   ],
   "source": [
    "df[:5]"
   ]
  },
  {
   "cell_type": "code",
   "execution_count": 6,
   "metadata": {},
   "outputs": [
    {
     "data": {
      "text/plain": [
       "<bound method DataFrame.info of             Id   ProductId          UserId                      ProfileName  \\\n",
       "0            1  B001E4KFG0  A3SGXH7AUHU8GW                       delmartian   \n",
       "1            2  B00813GRG4  A1D87F6ZCVE5NK                           dll pa   \n",
       "2            3  B000LQOCH0   ABXLMWJIXXAIN  Natalia Corres \"Natalia Corres\"   \n",
       "3            4  B000UA0QIQ  A395BORC6FGVXV                             Karl   \n",
       "4            5  B006K2ZZ7K  A1UQRSCLF8GW1T    Michael D. Bigham \"M. Wassir\"   \n",
       "...        ...         ...             ...                              ...   \n",
       "568449  568450  B001EO7N10  A28KG5XORO54AY                 Lettie D. Carter   \n",
       "568450  568451  B003S1WTCU  A3I8AFVPEE8KI5                        R. Sawyer   \n",
       "568451  568452  B004I613EE  A121AA1GQV751Z                    pksd \"pk_007\"   \n",
       "568452  568453  B004I613EE   A3IBEVCTXKNOH          Kathy A. Welch \"katwel\"   \n",
       "568453  568454  B001LR2CU2  A3LGQPJCZVL9UC                         srfell17   \n",
       "\n",
       "        HelpfulnessNumerator  HelpfulnessDenominator  Score        Time  \\\n",
       "0                          1                       1      5  1303862400   \n",
       "1                          0                       0      1  1346976000   \n",
       "2                          1                       1      4  1219017600   \n",
       "3                          3                       3      2  1307923200   \n",
       "4                          0                       0      5  1350777600   \n",
       "...                      ...                     ...    ...         ...   \n",
       "568449                     0                       0      5  1299628800   \n",
       "568450                     0                       0      2  1331251200   \n",
       "568451                     2                       2      5  1329782400   \n",
       "568452                     1                       1      5  1331596800   \n",
       "568453                     0                       0      5  1338422400   \n",
       "\n",
       "                                   Summary  \\\n",
       "0                    Good Quality Dog Food   \n",
       "1                        Not as Advertised   \n",
       "2                    \"Delight\" says it all   \n",
       "3                           Cough Medicine   \n",
       "4                              Great taffy   \n",
       "...                                    ...   \n",
       "568449                 Will not do without   \n",
       "568450                        disappointed   \n",
       "568451            Perfect for our maltipoo   \n",
       "568452  Favorite Training and reward treat   \n",
       "568453                         Great Honey   \n",
       "\n",
       "                                                     Text  \n",
       "0       I have bought several of the Vitality canned d...  \n",
       "1       Product arrived labeled as Jumbo Salted Peanut...  \n",
       "2       This is a confection that has been around a fe...  \n",
       "3       If you are looking for the secret ingredient i...  \n",
       "4       Great taffy at a great price.  There was a wid...  \n",
       "...                                                   ...  \n",
       "568449  Great for sesame chicken..this is a good if no...  \n",
       "568450  I'm disappointed with the flavor. The chocolat...  \n",
       "568451  These stars are small, so you can give 10-15 o...  \n",
       "568452  These are the BEST treats for training and rew...  \n",
       "568453  I am very satisfied ,product is as advertised,...  \n",
       "\n",
       "[568454 rows x 10 columns]>"
      ]
     },
     "execution_count": 6,
     "metadata": {},
     "output_type": "execute_result"
    }
   ],
   "source": [
    "df.info"
   ]
  },
  {
   "cell_type": "code",
   "execution_count": 7,
   "metadata": {},
   "outputs": [
    {
     "data": {
      "text/html": [
       "<div>\n",
       "<style scoped>\n",
       "    .dataframe tbody tr th:only-of-type {\n",
       "        vertical-align: middle;\n",
       "    }\n",
       "\n",
       "    .dataframe tbody tr th {\n",
       "        vertical-align: top;\n",
       "    }\n",
       "\n",
       "    .dataframe thead th {\n",
       "        text-align: right;\n",
       "    }\n",
       "</style>\n",
       "<table border=\"1\" class=\"dataframe\">\n",
       "  <thead>\n",
       "    <tr style=\"text-align: right;\">\n",
       "      <th></th>\n",
       "      <th>Id</th>\n",
       "      <th>HelpfulnessNumerator</th>\n",
       "      <th>HelpfulnessDenominator</th>\n",
       "      <th>Score</th>\n",
       "      <th>Time</th>\n",
       "    </tr>\n",
       "  </thead>\n",
       "  <tbody>\n",
       "    <tr>\n",
       "      <th>count</th>\n",
       "      <td>568454.000000</td>\n",
       "      <td>568454.000000</td>\n",
       "      <td>568454.00000</td>\n",
       "      <td>568454.000000</td>\n",
       "      <td>5.684540e+05</td>\n",
       "    </tr>\n",
       "    <tr>\n",
       "      <th>mean</th>\n",
       "      <td>284227.500000</td>\n",
       "      <td>1.743817</td>\n",
       "      <td>2.22881</td>\n",
       "      <td>4.183199</td>\n",
       "      <td>1.296257e+09</td>\n",
       "    </tr>\n",
       "    <tr>\n",
       "      <th>std</th>\n",
       "      <td>164098.679298</td>\n",
       "      <td>7.636513</td>\n",
       "      <td>8.28974</td>\n",
       "      <td>1.310436</td>\n",
       "      <td>4.804331e+07</td>\n",
       "    </tr>\n",
       "    <tr>\n",
       "      <th>min</th>\n",
       "      <td>1.000000</td>\n",
       "      <td>0.000000</td>\n",
       "      <td>0.00000</td>\n",
       "      <td>1.000000</td>\n",
       "      <td>9.393408e+08</td>\n",
       "    </tr>\n",
       "    <tr>\n",
       "      <th>25%</th>\n",
       "      <td>142114.250000</td>\n",
       "      <td>0.000000</td>\n",
       "      <td>0.00000</td>\n",
       "      <td>4.000000</td>\n",
       "      <td>1.271290e+09</td>\n",
       "    </tr>\n",
       "    <tr>\n",
       "      <th>50%</th>\n",
       "      <td>284227.500000</td>\n",
       "      <td>0.000000</td>\n",
       "      <td>1.00000</td>\n",
       "      <td>5.000000</td>\n",
       "      <td>1.311120e+09</td>\n",
       "    </tr>\n",
       "    <tr>\n",
       "      <th>75%</th>\n",
       "      <td>426340.750000</td>\n",
       "      <td>2.000000</td>\n",
       "      <td>2.00000</td>\n",
       "      <td>5.000000</td>\n",
       "      <td>1.332720e+09</td>\n",
       "    </tr>\n",
       "    <tr>\n",
       "      <th>max</th>\n",
       "      <td>568454.000000</td>\n",
       "      <td>866.000000</td>\n",
       "      <td>923.00000</td>\n",
       "      <td>5.000000</td>\n",
       "      <td>1.351210e+09</td>\n",
       "    </tr>\n",
       "  </tbody>\n",
       "</table>\n",
       "</div>"
      ],
      "text/plain": [
       "                  Id  HelpfulnessNumerator  HelpfulnessDenominator  \\\n",
       "count  568454.000000         568454.000000            568454.00000   \n",
       "mean   284227.500000              1.743817                 2.22881   \n",
       "std    164098.679298              7.636513                 8.28974   \n",
       "min         1.000000              0.000000                 0.00000   \n",
       "25%    142114.250000              0.000000                 0.00000   \n",
       "50%    284227.500000              0.000000                 1.00000   \n",
       "75%    426340.750000              2.000000                 2.00000   \n",
       "max    568454.000000            866.000000               923.00000   \n",
       "\n",
       "               Score          Time  \n",
       "count  568454.000000  5.684540e+05  \n",
       "mean        4.183199  1.296257e+09  \n",
       "std         1.310436  4.804331e+07  \n",
       "min         1.000000  9.393408e+08  \n",
       "25%         4.000000  1.271290e+09  \n",
       "50%         5.000000  1.311120e+09  \n",
       "75%         5.000000  1.332720e+09  \n",
       "max         5.000000  1.351210e+09  "
      ]
     },
     "execution_count": 7,
     "metadata": {},
     "output_type": "execute_result"
    }
   ],
   "source": [
    "df.describe()"
   ]
  },
  {
   "cell_type": "code",
   "execution_count": 8,
   "metadata": {},
   "outputs": [
    {
     "data": {
      "text/plain": [
       "Id                         0\n",
       "ProductId                  0\n",
       "UserId                     0\n",
       "ProfileName               16\n",
       "HelpfulnessNumerator       0\n",
       "HelpfulnessDenominator     0\n",
       "Score                      0\n",
       "Time                       0\n",
       "Summary                   27\n",
       "Text                       0\n",
       "dtype: int64"
      ]
     },
     "execution_count": 8,
     "metadata": {},
     "output_type": "execute_result"
    }
   ],
   "source": [
    "df.isnull().sum()"
   ]
  },
  {
   "cell_type": "code",
   "execution_count": 9,
   "metadata": {},
   "outputs": [
    {
     "data": {
      "text/plain": [
       "0    I have bought several of the Vitality canned d...\n",
       "1    Product arrived labeled as Jumbo Salted Peanut...\n",
       "Name: Text, dtype: object"
      ]
     },
     "execution_count": 9,
     "metadata": {},
     "output_type": "execute_result"
    }
   ],
   "source": [
    "df['Text'][0:2]"
   ]
  },
  {
   "cell_type": "code",
   "execution_count": 10,
   "metadata": {},
   "outputs": [
    {
     "data": {
      "text/plain": [
       "0    Good Quality Dog Food\n",
       "1        Not as Advertised\n",
       "Name: Summary, dtype: object"
      ]
     },
     "execution_count": 10,
     "metadata": {},
     "output_type": "execute_result"
    }
   ],
   "source": [
    "df['Summary'][0:2]"
   ]
  },
  {
   "cell_type": "code",
   "execution_count": 11,
   "metadata": {},
   "outputs": [
    {
     "data": {
      "text/plain": [
       "568454"
      ]
     },
     "execution_count": 11,
     "metadata": {},
     "output_type": "execute_result"
    }
   ],
   "source": [
    "len(df)"
   ]
  },
  {
   "cell_type": "code",
   "execution_count": 12,
   "metadata": {},
   "outputs": [],
   "source": [
    "df.drop_duplicates(subset=['Text'],inplace=True)  #dropping duplicates\n"
   ]
  },
  {
   "cell_type": "code",
   "execution_count": 13,
   "metadata": {},
   "outputs": [
    {
     "data": {
      "text/plain": [
       "393579"
      ]
     },
     "execution_count": 13,
     "metadata": {},
     "output_type": "execute_result"
    }
   ],
   "source": [
    "len(df)   ###There were a lot of duplicate texts"
   ]
  },
  {
   "cell_type": "code",
   "execution_count": 14,
   "metadata": {},
   "outputs": [],
   "source": [
    "df.dropna(axis = 0 ,inplace = True)"
   ]
  },
  {
   "cell_type": "code",
   "execution_count": 15,
   "metadata": {},
   "outputs": [],
   "source": [
    "df.reset_index(inplace  = True)"
   ]
  },
  {
   "cell_type": "markdown",
   "metadata": {},
   "source": [
    "Drop all the unwanted symbols, characters, etc. from the text that do not affect the objective of our problem.\n",
    "\n",
    "Here is the dictionary that we will use for expanding the contractions:"
   ]
  },
  {
   "cell_type": "code",
   "execution_count": 16,
   "metadata": {},
   "outputs": [],
   "source": [
    "\n",
    "contraction_mapping = {\"ain't\": \"is not\", \"aren't\": \"are not\",\"can't\": \"cannot\", \"'cause\": \"because\", \"could've\": \"could have\", \"couldn't\": \"could not\",\n",
    "\n",
    "                           \"didn't\": \"did not\", \"doesn't\": \"does not\", \"don't\": \"do not\", \"hadn't\": \"had not\", \"hasn't\": \"has not\", \"haven't\": \"have not\",\n",
    "\n",
    "                           \"he'd\": \"he would\",\"he'll\": \"he will\", \"he's\": \"he is\", \"how'd\": \"how did\", \"how'd'y\": \"how do you\", \"how'll\": \"how will\", \"how's\": \"how is\",\n",
    "\n",
    "                           \"I'd\": \"I would\", \"I'd've\": \"I would have\", \"I'll\": \"I will\", \"I'll've\": \"I will have\",\"I'm\": \"I am\", \"I've\": \"I have\", \"i'd\": \"i would\",\n",
    "\n",
    "                           \"i'd've\": \"i would have\", \"i'll\": \"i will\",  \"i'll've\": \"i will have\",\"i'm\": \"i am\", \"i've\": \"i have\", \"isn't\": \"is not\", \"it'd\": \"it would\",\n",
    "\n",
    "                           \"it'd've\": \"it would have\", \"it'll\": \"it will\", \"it'll've\": \"it will have\",\"it's\": \"it is\", \"let's\": \"let us\", \"ma'am\": \"madam\",\n",
    "\n",
    "                           \"mayn't\": \"may not\", \"might've\": \"might have\",\"mightn't\": \"might not\",\"mightn't've\": \"might not have\", \"must've\": \"must have\",\n",
    "\n",
    "                           \"mustn't\": \"must not\", \"mustn't've\": \"must not have\", \"needn't\": \"need not\", \"needn't've\": \"need not have\",\"o'clock\": \"of the clock\",\n",
    "\n",
    "                           \"oughtn't\": \"ought not\", \"oughtn't've\": \"ought not have\", \"shan't\": \"shall not\", \"sha'n't\": \"shall not\", \"shan't've\": \"shall not have\",\n",
    "\n",
    "                           \"she'd\": \"she would\", \"she'd've\": \"she would have\", \"she'll\": \"she will\", \"she'll've\": \"she will have\", \"she's\": \"she is\",\n",
    "\n",
    "                           \"should've\": \"should have\", \"shouldn't\": \"should not\", \"shouldn't've\": \"should not have\", \"so've\": \"so have\",\"so's\": \"so as\",\n",
    "\n",
    "                           \"this's\": \"this is\",\"that'd\": \"that would\", \"that'd've\": \"that would have\", \"that's\": \"that is\", \"there'd\": \"there would\",\n",
    "\n",
    "                           \"there'd've\": \"there would have\", \"there's\": \"there is\", \"here's\": \"here is\",\"they'd\": \"they would\", \"they'd've\": \"they would have\",\n",
    "\n",
    "                           \"they'll\": \"they will\", \"they'll've\": \"they will have\", \"they're\": \"they are\", \"they've\": \"they have\", \"to've\": \"to have\",\n",
    "\n",
    "                           \"wasn't\": \"was not\", \"we'd\": \"we would\", \"we'd've\": \"we would have\", \"we'll\": \"we will\", \"we'll've\": \"we will have\", \"we're\": \"we are\",\n",
    "\n",
    "                           \"we've\": \"we have\", \"weren't\": \"were not\", \"what'll\": \"what will\", \"what'll've\": \"what will have\", \"what're\": \"what are\",\n",
    "\n",
    "                           \"what's\": \"what is\", \"what've\": \"what have\", \"when's\": \"when is\", \"when've\": \"when have\", \"where'd\": \"where did\", \"where's\": \"where is\",\n",
    "\n",
    "                           \"where've\": \"where have\", \"who'll\": \"who will\", \"who'll've\": \"who will have\", \"who's\": \"who is\", \"who've\": \"who have\",\n",
    "\n",
    "                           \"why's\": \"why is\", \"why've\": \"why have\", \"will've\": \"will have\", \"won't\": \"will not\", \"won't've\": \"will not have\",\n",
    "\n",
    "                           \"would've\": \"would have\", \"wouldn't\": \"would not\", \"wouldn't've\": \"would not have\", \"y'all\": \"you all\",\n",
    "\n",
    "                           \"y'all'd\": \"you all would\",\"y'all'd've\": \"you all would have\",\"y'all're\": \"you all are\",\"y'all've\": \"you all have\",\n",
    "\n",
    "                           \"you'd\": \"you would\", \"you'd've\": \"you would have\", \"you'll\": \"you will\", \"you'll've\": \"you will have\",\n",
    "\n",
    "                           \"you're\": \"you are\", \"you've\": \"you have\"}"
   ]
  },
  {
   "cell_type": "markdown",
   "metadata": {},
   "source": [
    "We need to define two different functions for preprocessing the reviews and generating the summary since the preprocessing steps involved in text and summary differ slightly."
   ]
  },
  {
   "cell_type": "code",
   "execution_count": 17,
   "metadata": {},
   "outputs": [
    {
     "data": {
      "text/plain": [
       "'I got a wild hair for taffy and ordered this five pound bag. The taffy was all very enjoyable with many flavors: watermelon, root beer, melon, peppermint, grape, etc. My only complaint is there was a bit too much red/black licorice-flavored pieces (just not my particular favorites). Between me, my kids, and my husband, this lasted only two weeks! I would recommend this brand of taffy -- it was a delightful treat.'"
      ]
     },
     "execution_count": 17,
     "metadata": {},
     "output_type": "execute_result"
    }
   ],
   "source": [
    "df['Text'][5]"
   ]
  },
  {
   "cell_type": "markdown",
   "metadata": {},
   "source": [
    "We will perform the below preprocessing tasks for our data:\n",
    "\n",
    "• Convert everything to lowercase\n",
    "• Remove HTML tags\n",
    "• Contraction mapping\n",
    "• Remove (‘s)\n",
    "• Remove any text inside the parenthesis ( )\n",
    "• Eliminate punctuations and special characters\n",
    "• Remove stopwords\n",
    "• Remove short words"
   ]
  },
  {
   "cell_type": "code",
   "execution_count": 18,
   "metadata": {},
   "outputs": [],
   "source": [
    "\n",
    "stop_words = set(stopwords.words('english'))"
   ]
  },
  {
   "cell_type": "code",
   "execution_count": 19,
   "metadata": {},
   "outputs": [
    {
     "data": {
      "text/plain": [
       "179"
      ]
     },
     "execution_count": 19,
     "metadata": {},
     "output_type": "execute_result"
    }
   ],
   "source": [
    "len(stop_words)"
   ]
  },
  {
   "cell_type": "code",
   "execution_count": 20,
   "metadata": {},
   "outputs": [],
   "source": [
    "def text_cleaner(text):\n",
    "    newString = text.lower()\n",
    "    newString = BeautifulSoup(newString, \"lxml\").text\n",
    "    newString = re.sub(r'\\([^)]*\\)', '', newString)\n",
    "    newString = re.sub('\"','', newString)\n",
    "    newString = ' '.join([contraction_mapping[t] if t in contraction_mapping else t for t in newString.split(\" \")])    \n",
    "    newString = re.sub(r\"'s\\b\",\"\",newString)\n",
    "    newString = re.sub(\"[^a-zA-Z]\", \" \", newString) \n",
    "    tokens = [w for w in newString.split() if not w in stop_words]\n",
    "    \n",
    "    tokens = [w for w in newString.split() if not w in stop_words]\n",
    "    long_words=[]\n",
    "    for i in tokens:\n",
    "        if len(i)>=3:                  #removing short word\n",
    "            long_words.append(i)   \n",
    "    return (\" \".join(long_words)).strip()\n"
   ]
  },
  {
   "cell_type": "code",
   "execution_count": 21,
   "metadata": {},
   "outputs": [],
   "source": [
    "cleaned_text = []\n",
    "for t in df['Text']:\n",
    "    cleaned_text.append(text_cleaner(t))"
   ]
  },
  {
   "cell_type": "markdown",
   "metadata": {},
   "source": [
    "### Summary Cleaning\n",
    "And now we’ll look at the first 10 rows of the reviews to an idea of the preprocessing steps for the summary column:"
   ]
  },
  {
   "cell_type": "code",
   "execution_count": 22,
   "metadata": {},
   "outputs": [],
   "source": [
    "def summary_cleaner(text):\n",
    "    newString = re.sub('\"','', text)\n",
    "    newString = ' '.join([contraction_mapping[t] if t in contraction_mapping else t for t in newString.split(\" \")])    \n",
    "    newString = re.sub(r\"'s\\b\",\"\",newString)\n",
    "    newString = re.sub(\"[^a-zA-Z]\", \" \", newString)\n",
    "    newString = newString.lower()\n",
    "    tokens=newString.split()\n",
    "    newString=''\n",
    "    for i in tokens:\n",
    "        if len(i)>1:                                 \n",
    "            newString=newString+i+' '  \n",
    "    return newString\n",
    "\n"
   ]
  },
  {
   "cell_type": "code",
   "execution_count": 23,
   "metadata": {},
   "outputs": [],
   "source": [
    "#Call the above function\n",
    "cleaned_summary = []\n",
    "for t in df['Summary']:\n",
    "    cleaned_summary.append(summary_cleaner(t))\n",
    "\n"
   ]
  },
  {
   "cell_type": "code",
   "execution_count": 24,
   "metadata": {},
   "outputs": [],
   "source": [
    "df['cleaned_text']=cleaned_text\n",
    "df['cleaned_summary']=cleaned_summary\n"
   ]
  },
  {
   "cell_type": "code",
   "execution_count": 25,
   "metadata": {},
   "outputs": [
    {
     "data": {
      "text/plain": [
       "0"
      ]
     },
     "execution_count": 25,
     "metadata": {},
     "output_type": "execute_result"
    }
   ],
   "source": [
    "df['cleaned_text'].isnull().sum()"
   ]
  },
  {
   "cell_type": "code",
   "execution_count": 26,
   "metadata": {},
   "outputs": [
    {
     "data": {
      "text/plain": [
       "0"
      ]
     },
     "execution_count": 26,
     "metadata": {},
     "output_type": "execute_result"
    }
   ],
   "source": [
    "df['cleaned_summary'].isnull().sum()"
   ]
  },
  {
   "cell_type": "code",
   "execution_count": 27,
   "metadata": {},
   "outputs": [
    {
     "data": {
      "text/plain": [
       "0                      good quality dog food \n",
       "1                          not as advertised \n",
       "2                        delight says it all \n",
       "3                             cough medicine \n",
       "4                                great taffy \n",
       "                         ...                 \n",
       "393560                   will not do without \n",
       "393561                          disappointed \n",
       "393562              perfect for our maltipoo \n",
       "393563    favorite training and reward treat \n",
       "393564                           great honey \n",
       "Name: cleaned_summary, Length: 393565, dtype: object"
      ]
     },
     "execution_count": 27,
     "metadata": {},
     "output_type": "execute_result"
    }
   ],
   "source": [
    "df['cleaned_summary']"
   ]
  },
  {
   "cell_type": "code",
   "execution_count": 28,
   "metadata": {},
   "outputs": [
    {
     "data": {
      "text/plain": [
       "343"
      ]
     },
     "execution_count": 28,
     "metadata": {},
     "output_type": "execute_result"
    }
   ],
   "source": [
    "count = 0\n",
    "for i in range(0,len(df['cleaned_summary'])):\n",
    "    if(df['cleaned_summary'][i] == ''):\n",
    "        count = count + 1\n",
    "count  ###Significantly low so can directly be removed"
   ]
  },
  {
   "cell_type": "code",
   "execution_count": 29,
   "metadata": {},
   "outputs": [],
   "source": [
    "df['cleaned_summary'].replace('', np.nan, inplace=True)\n",
    "df.dropna(axis=0,inplace=True)"
   ]
  },
  {
   "cell_type": "markdown",
   "metadata": {},
   "source": [
    "add the START and END special tokens at the beginning and end of the summary:"
   ]
  },
  {
   "cell_type": "code",
   "execution_count": 30,
   "metadata": {},
   "outputs": [],
   "source": [
    "df['cleaned_summary'] = df['cleaned_summary'].apply(lambda x : '_START_ '+ x + ' _END_')"
   ]
  },
  {
   "cell_type": "code",
   "execution_count": 31,
   "metadata": {},
   "outputs": [
    {
     "data": {
      "text/plain": [
       "0                      _START_ good quality dog food  _END_\n",
       "1                          _START_ not as advertised  _END_\n",
       "2                        _START_ delight says it all  _END_\n",
       "3                             _START_ cough medicine  _END_\n",
       "4                                _START_ great taffy  _END_\n",
       "                                ...                        \n",
       "393560                   _START_ will not do without  _END_\n",
       "393561                          _START_ disappointed  _END_\n",
       "393562              _START_ perfect for our maltipoo  _END_\n",
       "393563    _START_ favorite training and reward treat  _END_\n",
       "393564                           _START_ great honey  _END_\n",
       "Name: cleaned_summary, Length: 393222, dtype: object"
      ]
     },
     "execution_count": 31,
     "metadata": {},
     "output_type": "execute_result"
    }
   ],
   "source": [
    "df['cleaned_summary']"
   ]
  },
  {
   "cell_type": "code",
   "execution_count": 32,
   "metadata": {},
   "outputs": [
    {
     "name": "stdout",
     "output_type": "stream",
     "text": [
      "Review: bought several vitality canned dog food products found good quality product looks like stew processed meat smells better labrador finicky appreciates product better\n",
      "Summary: _START_ good quality dog food  _END_\n",
      "\n",
      "\n",
      "Review: product arrived labeled jumbo salted peanuts peanuts actually small sized unsalted sure error vendor intended represent product jumbo\n",
      "Summary: _START_ not as advertised  _END_\n",
      "\n",
      "\n",
      "Review: confection around centuries light pillowy citrus gelatin nuts case filberts cut tiny squares liberally coated powdered sugar tiny mouthful heaven chewy flavorful highly recommend yummy treat familiar story lewis lion witch wardrobe treat seduces edmund selling brother sisters witch\n",
      "Summary: _START_ delight says it all  _END_\n",
      "\n",
      "\n"
     ]
    }
   ],
   "source": [
    "for i in range(3):\n",
    "    print(\"Review:\",df['cleaned_text'][i])\n",
    "    print(\"Summary:\",df['cleaned_summary'][i])\n",
    "    print(\"\\n\")"
   ]
  },
  {
   "cell_type": "markdown",
   "metadata": {},
   "source": [
    "#### Understanding the distribution of the sequences\n",
    "Here, we will analyze the length of the reviews and the summary to get an overall idea about the distribution of length of the text. This will help us fix the maximum length of the sequence:"
   ]
  },
  {
   "cell_type": "code",
   "execution_count": 33,
   "metadata": {},
   "outputs": [],
   "source": [
    "import matplotlib.pyplot as plt\n",
    "text_word_count = []\n",
    "summary_word_count = []\n",
    "\n",
    "# populate the lists with sentence lengths\n",
    "for i in df['cleaned_text']:\n",
    "      text_word_count.append(len(i.split()))\n",
    "\n",
    "for i in df['cleaned_summary']:\n",
    "      summary_word_count.append(len(i.split()))\n",
    "\n"
   ]
  },
  {
   "cell_type": "code",
   "execution_count": 34,
   "metadata": {},
   "outputs": [],
   "source": [
    "length_df = pd.DataFrame({'text':text_word_count, 'summary':summary_word_count})\n"
   ]
  },
  {
   "cell_type": "code",
   "execution_count": 35,
   "metadata": {},
   "outputs": [
    {
     "data": {
      "image/png": "[encoded data removed]",
      "text/plain": [
       "<Figure size 432x288 with 1 Axes>"
      ]
     },
     "metadata": {
      "needs_background": "light"
     },
     "output_type": "display_data"
    }
   ],
   "source": [
    "length_df['text'].hist(bins = 50 , range = [0,80])\n",
    "plt.show()"
   ]
  },
  {
   "cell_type": "code",
   "execution_count": 36,
   "metadata": {},
   "outputs": [
    {
     "data": {
      "image/png": "[encoded data removed]",
      "text/plain": [
       "<Figure size 432x288 with 1 Axes>"
      ]
     },
     "metadata": {
      "needs_background": "light"
     },
     "output_type": "display_data"
    }
   ],
   "source": [
    "length_df['summary'].hist(bins = 50 )\n",
    "plt.show()"
   ]
  },
  {
   "cell_type": "code",
   "execution_count": 37,
   "metadata": {},
   "outputs": [
    {
     "data": {
      "text/plain": [
       "[37.703442330286705, 5.960546459760644]"
      ]
     },
     "execution_count": 37,
     "metadata": {},
     "output_type": "execute_result"
    }
   ],
   "source": [
    "[np.mean(text_word_count) , np.mean(summary_word_count)]"
   ]
  },
  {
   "cell_type": "code",
   "execution_count": 38,
   "metadata": {},
   "outputs": [
    {
     "data": {
      "text/plain": [
       "[27.0, 5.0]"
      ]
     },
     "execution_count": 38,
     "metadata": {},
     "output_type": "execute_result"
    }
   ],
   "source": [
    "[np.median(text_word_count) , np.median(summary_word_count) ]"
   ]
  },
  {
   "cell_type": "code",
   "execution_count": 39,
   "metadata": {},
   "outputs": [
    {
     "data": {
      "text/plain": [
       "[36.115324196196745, 2.453859794291132]"
      ]
     },
     "execution_count": 39,
     "metadata": {},
     "output_type": "execute_result"
    }
   ],
   "source": [
    "[np.std(text_word_count) , np.std(summary_word_count) ]"
   ]
  },
  {
   "cell_type": "code",
   "execution_count": 40,
   "metadata": {},
   "outputs": [
    {
     "data": {
      "text/plain": [
       "[1892, 29]"
      ]
     },
     "execution_count": 40,
     "metadata": {},
     "output_type": "execute_result"
    }
   ],
   "source": [
    "[np.max(text_word_count) , np.max(summary_word_count) ]"
   ]
  },
  {
   "cell_type": "code",
   "execution_count": 41,
   "metadata": {},
   "outputs": [],
   "source": [
    "max_len_text=80 \n",
    "max_len_summary=10"
   ]
  },
  {
   "cell_type": "markdown",
   "metadata": {},
   "source": [
    "We’ll use 90% of the dataset as the training data and evaluate the performance on the remaining 10% (holdout set):"
   ]
  },
  {
   "cell_type": "code",
   "execution_count": 42,
   "metadata": {},
   "outputs": [],
   "source": [
    "from sklearn.model_selection import train_test_split\n",
    "x_tr,x_val,y_tr,y_val=train_test_split(df['cleaned_text'],df['cleaned_summary'],test_size=0.1,random_state=0,shuffle=True) "
   ]
  },
  {
   "cell_type": "code",
   "execution_count": 43,
   "metadata": {},
   "outputs": [
    {
     "data": {
      "text/plain": [
       "[353899, 39323, 353899, 39323]"
      ]
     },
     "execution_count": 43,
     "metadata": {},
     "output_type": "execute_result"
    }
   ],
   "source": [
    "[len(x_tr),len(x_val),len(y_tr),len(y_val)]"
   ]
  },
  {
   "cell_type": "markdown",
   "metadata": {},
   "source": [
    "#### Preparing the Tokenizer\n",
    "A tokenizer builds the vocabulary and converts a word sequence to an integer sequence. We'll build tokenizers for text and summary:"
   ]
  },
  {
   "cell_type": "markdown",
   "metadata": {},
   "source": [
    "• Text Tokenizer"
   ]
  },
  {
   "cell_type": "code",
   "execution_count": null,
   "metadata": {},
   "outputs": [],
   "source": [
    "\n",
    "\n",
    "\n",
    "\n",
    "\n"
   ]
  },
  {
   "cell_type": "code",
   "execution_count": 44,
   "metadata": {},
   "outputs": [
    {
     "data": {
      "text/plain": [
       "'bought several vitality canned dog food products found good quality product looks like stew processed meat smells better labrador finicky appreciates product better'"
      ]
     },
     "execution_count": 44,
     "metadata": {},
     "output_type": "execute_result"
    }
   ],
   "source": [
    "x_tr[0]"
   ]
  },
  {
   "cell_type": "code",
   "execution_count": 45,
   "metadata": {},
   "outputs": [],
   "source": [
    "#prepare a tokenizer for reviews on training data\n",
    "x_tokenizer = Tokenizer()\n",
    "x_tokenizer.fit_on_texts(list(x_tr))"
   ]
  },
  {
   "cell_type": "code",
   "execution_count": 46,
   "metadata": {},
   "outputs": [
    {
     "data": {
      "text/plain": [
       "'bought several vitality canned dog food products found good quality product looks like stew processed meat smells better labrador finicky appreciates product better'"
      ]
     },
     "execution_count": 46,
     "metadata": {},
     "output_type": "execute_result"
    }
   ],
   "source": [
    "x_tr[0]"
   ]
  },
  {
   "cell_type": "code",
   "execution_count": 47,
   "metadata": {},
   "outputs": [],
   "source": [
    "#convert text sequences into integer sequences\n",
    "x_tr    =   x_tokenizer.texts_to_sequences(x_tr) \n",
    "x_val   =   x_tokenizer.texts_to_sequences(x_val)\n"
   ]
  },
  {
   "cell_type": "code",
   "execution_count": 48,
   "metadata": {},
   "outputs": [
    {
     "name": "stdout",
     "output_type": "stream",
     "text": [
      "[33, 27, 2788, 10187, 1450, 2676, 13911, 32574, 449, 129, 4, 23, 2788, 27, 294, 95, 1253, 85, 1892, 1009, 9031, 24267, 57]\n"
     ]
    }
   ],
   "source": [
    "print(x_tr[0])"
   ]
  },
  {
   "cell_type": "code",
   "execution_count": 49,
   "metadata": {},
   "outputs": [],
   "source": [
    "#padding zero upto maximum length\n",
    "x_tr    =   pad_sequences(x_tr,  maxlen=max_len_text, padding='post') \n",
    "x_val   =   pad_sequences(x_val, maxlen=max_len_text, padding='post')"
   ]
  },
  {
   "cell_type": "code",
   "execution_count": 50,
   "metadata": {},
   "outputs": [
    {
     "data": {
      "text/plain": [
       "array([   33,    27,  2788, 10187,  1450,  2676, 13911, 32574,   449,\n",
       "         129,     4,    23,  2788,    27,   294,    95,  1253,    85,\n",
       "        1892,  1009,  9031, 24267,    57,     0,     0,     0,     0,\n",
       "           0,     0,     0,     0,     0,     0,     0,     0,     0,\n",
       "           0,     0,     0,     0,     0,     0,     0,     0,     0,\n",
       "           0,     0,     0,     0,     0,     0,     0,     0,     0,\n",
       "           0,     0,     0,     0,     0,     0,     0,     0,     0,\n",
       "           0,     0,     0,     0,     0,     0,     0,     0,     0,\n",
       "           0,     0,     0,     0,     0,     0,     0,     0])"
      ]
     },
     "execution_count": 50,
     "metadata": {},
     "output_type": "execute_result"
    }
   ],
   "source": [
    "x_tr[0]"
   ]
  },
  {
   "cell_type": "code",
   "execution_count": 51,
   "metadata": {},
   "outputs": [],
   "source": [
    "x_voc_size   =  len(x_tokenizer.word_index) +1  ###Gives x_vocab size"
   ]
  },
  {
   "cell_type": "code",
   "execution_count": 52,
   "metadata": {},
   "outputs": [
    {
     "data": {
      "text/plain": [
       "{'like': 1,\n",
       " 'good': 2,\n",
       " 'taste': 3,\n",
       " 'one': 4,\n",
       " 'great': 5,\n",
       " 'product': 6,\n",
       " 'would': 7,\n",
       " 'flavor': 8,\n",
       " 'coffee': 9,\n",
       " 'tea': 10,\n",
       " 'love': 11,\n",
       " 'get': 12,\n",
       " 'really': 13,\n",
       " 'food': 14,\n",
       " 'much': 15,\n",
       " 'amazon': 16,\n",
       " 'use': 17,\n",
       " 'also': 18,\n",
       " 'time': 19,\n",
       " 'little': 20,\n",
       " 'buy': 21,\n",
       " 'price': 22,\n",
       " 'best': 23,\n",
       " 'find': 24,\n",
       " 'make': 25,\n",
       " 'well': 26,\n",
       " 'tried': 27,\n",
       " 'even': 28,\n",
       " 'better': 29,\n",
       " 'try': 30,\n",
       " 'chocolate': 31,\n",
       " 'eat': 32,\n",
       " 'first': 33,\n",
       " 'sugar': 34,\n",
       " 'water': 35,\n",
       " 'could': 36,\n",
       " 'used': 37,\n",
       " 'found': 38,\n",
       " 'sweet': 39,\n",
       " 'made': 40,\n",
       " 'drink': 41,\n",
       " 'bag': 42,\n",
       " 'bought': 43,\n",
       " 'box': 44,\n",
       " 'dog': 45,\n",
       " 'cup': 46,\n",
       " 'free': 47,\n",
       " 'way': 48,\n",
       " 'store': 49,\n",
       " 'think': 50,\n",
       " 'cannot': 51,\n",
       " 'tastes': 52,\n",
       " 'two': 53,\n",
       " 'order': 54,\n",
       " 'since': 55,\n",
       " 'mix': 56,\n",
       " 'day': 57,\n",
       " 'delicious': 58,\n",
       " 'still': 59,\n",
       " 'bit': 60,\n",
       " 'nice': 61,\n",
       " 'recommend': 62,\n",
       " 'know': 63,\n",
       " 'many': 64,\n",
       " 'got': 65,\n",
       " 'give': 66,\n",
       " 'add': 67,\n",
       " 'want': 68,\n",
       " 'hot': 69,\n",
       " 'never': 70,\n",
       " 'milk': 71,\n",
       " 'stuff': 72,\n",
       " 'something': 73,\n",
       " 'favorite': 74,\n",
       " 'makes': 75,\n",
       " 'years': 76,\n",
       " 'every': 77,\n",
       " 'brand': 78,\n",
       " 'flavors': 79,\n",
       " 'without': 80,\n",
       " 'lot': 81,\n",
       " 'quality': 82,\n",
       " 'always': 83,\n",
       " 'right': 84,\n",
       " 'say': 85,\n",
       " 'ever': 86,\n",
       " 'however': 87,\n",
       " 'less': 88,\n",
       " 'back': 89,\n",
       " 'different': 90,\n",
       " 'fresh': 91,\n",
       " 'organic': 92,\n",
       " 'ordered': 93,\n",
       " 'enough': 94,\n",
       " 'easy': 95,\n",
       " 'perfect': 96,\n",
       " 'using': 97,\n",
       " 'sauce': 98,\n",
       " 'products': 99,\n",
       " 'healthy': 100,\n",
       " 'small': 101,\n",
       " 'oil': 102,\n",
       " 'ingredients': 103,\n",
       " 'keep': 104,\n",
       " 'put': 105,\n",
       " 'sure': 106,\n",
       " 'whole': 107,\n",
       " 'need': 108,\n",
       " 'bad': 109,\n",
       " 'long': 110,\n",
       " 'loves': 111,\n",
       " 'hard': 112,\n",
       " 'though': 113,\n",
       " 'old': 114,\n",
       " 'snack': 115,\n",
       " 'enjoy': 116,\n",
       " 'high': 117,\n",
       " 'definitely': 118,\n",
       " 'eating': 119,\n",
       " 'buying': 120,\n",
       " 'local': 121,\n",
       " 'thought': 122,\n",
       " 'see': 123,\n",
       " 'dogs': 124,\n",
       " 'thing': 125,\n",
       " 'looking': 126,\n",
       " 'regular': 127,\n",
       " 'pretty': 128,\n",
       " 'far': 129,\n",
       " 'tasty': 130,\n",
       " 'green': 131,\n",
       " 'strong': 132,\n",
       " 'package': 133,\n",
       " 'work': 134,\n",
       " 'salt': 135,\n",
       " 'natural': 136,\n",
       " 'bags': 137,\n",
       " 'shipping': 138,\n",
       " 'happy': 139,\n",
       " 'wonderful': 140,\n",
       " 'another': 141,\n",
       " 'big': 142,\n",
       " 'cookies': 143,\n",
       " 'cat': 144,\n",
       " 'size': 145,\n",
       " 'butter': 146,\n",
       " 'going': 147,\n",
       " 'rice': 148,\n",
       " 'actually': 149,\n",
       " 'treats': 150,\n",
       " 'quite': 151,\n",
       " 'new': 152,\n",
       " 'take': 153,\n",
       " 'last': 154,\n",
       " 'people': 155,\n",
       " 'chicken': 156,\n",
       " 'treat': 157,\n",
       " 'texture': 158,\n",
       " 'pack': 159,\n",
       " 'tasted': 160,\n",
       " 'excellent': 161,\n",
       " 'purchase': 162,\n",
       " 'real': 163,\n",
       " 'highly': 164,\n",
       " 'low': 165,\n",
       " 'gluten': 166,\n",
       " 'may': 167,\n",
       " 'almost': 168,\n",
       " 'purchased': 169,\n",
       " 'calories': 170,\n",
       " 'candy': 171,\n",
       " 'worth': 172,\n",
       " 'tasting': 173,\n",
       " 'cereal': 174,\n",
       " 'grocery': 175,\n",
       " 'stores': 176,\n",
       " 'year': 177,\n",
       " 'around': 178,\n",
       " 'foods': 179,\n",
       " 'fruit': 180,\n",
       " 'feel': 181,\n",
       " 'anything': 182,\n",
       " 'coconut': 183,\n",
       " 'per': 184,\n",
       " 'family': 185,\n",
       " 'bottle': 186,\n",
       " 'bars': 187,\n",
       " 'half': 188,\n",
       " 'came': 189,\n",
       " 'expensive': 190,\n",
       " 'added': 191,\n",
       " 'dry': 192,\n",
       " 'cups': 193,\n",
       " 'trying': 194,\n",
       " 'diet': 195,\n",
       " 'fat': 196,\n",
       " 'amount': 197,\n",
       " 'said': 198,\n",
       " 'received': 199,\n",
       " 'full': 200,\n",
       " 'probably': 201,\n",
       " 'home': 202,\n",
       " 'several': 203,\n",
       " 'away': 204,\n",
       " 'smell': 205,\n",
       " 'getting': 206,\n",
       " 'loved': 207,\n",
       " 'dark': 208,\n",
       " 'vanilla': 209,\n",
       " 'brands': 210,\n",
       " 'come': 211,\n",
       " 'beans': 212,\n",
       " 'making': 213,\n",
       " 'might': 214,\n",
       " 'company': 215,\n",
       " 'things': 216,\n",
       " 'bar': 217,\n",
       " 'days': 218,\n",
       " 'arrived': 219,\n",
       " 'cheese': 220,\n",
       " 'usually': 221,\n",
       " 'problem': 222,\n",
       " 'reviews': 223,\n",
       " 'morning': 224,\n",
       " 'protein': 225,\n",
       " 'item': 226,\n",
       " 'cats': 227,\n",
       " 'seems': 228,\n",
       " 'bread': 229,\n",
       " 'money': 230,\n",
       " 'light': 231,\n",
       " 'comes': 232,\n",
       " 'available': 233,\n",
       " 'case': 234,\n",
       " 'black': 235,\n",
       " 'nothing': 236,\n",
       " 'top': 237,\n",
       " 'honey': 238,\n",
       " 'kind': 239,\n",
       " 'months': 240,\n",
       " 'able': 241,\n",
       " 'peanut': 242,\n",
       " 'kids': 243,\n",
       " 'blend': 244,\n",
       " 'three': 245,\n",
       " 'health': 246,\n",
       " 'disappointed': 247,\n",
       " 'chips': 248,\n",
       " 'look': 249,\n",
       " 'instead': 250,\n",
       " 'flavored': 251,\n",
       " 'review': 252,\n",
       " 'large': 253,\n",
       " 'drinking': 254,\n",
       " 'husband': 255,\n",
       " 'fine': 256,\n",
       " 'juice': 257,\n",
       " 'soup': 258,\n",
       " 'stars': 259,\n",
       " 'packaging': 260,\n",
       " 'especially': 261,\n",
       " 'extra': 262,\n",
       " 'variety': 263,\n",
       " 'boxes': 264,\n",
       " 'times': 265,\n",
       " 'pasta': 266,\n",
       " 'cream': 267,\n",
       " 'maybe': 268,\n",
       " 'next': 269,\n",
       " 'ones': 270,\n",
       " 'deal': 271,\n",
       " 'corn': 272,\n",
       " 'minutes': 273,\n",
       " 'syrup': 274,\n",
       " 'decided': 275,\n",
       " 'meal': 276,\n",
       " 'save': 277,\n",
       " 'fact': 278,\n",
       " 'bitter': 279,\n",
       " 'absolutely': 280,\n",
       " 'either': 281,\n",
       " 'least': 282,\n",
       " 'others': 283,\n",
       " 'liked': 284,\n",
       " 'wish': 285,\n",
       " 'breakfast': 286,\n",
       " 'gave': 287,\n",
       " 'white': 288,\n",
       " 'let': 289,\n",
       " 'teas': 290,\n",
       " 'went': 291,\n",
       " 'couple': 292,\n",
       " 'prefer': 293,\n",
       " 'smooth': 294,\n",
       " 'powder': 295,\n",
       " 'works': 296,\n",
       " 'cost': 297,\n",
       " 'wanted': 298,\n",
       " 'energy': 299,\n",
       " 'ago': 300,\n",
       " 'soft': 301,\n",
       " 'house': 302,\n",
       " 'quickly': 303,\n",
       " 'hair': 304,\n",
       " 'started': 305,\n",
       " 'cans': 306,\n",
       " 'cheaper': 307,\n",
       " 'gift': 308,\n",
       " 'red': 309,\n",
       " 'rich': 310,\n",
       " 'must': 311,\n",
       " 'fast': 312,\n",
       " 'recommended': 313,\n",
       " 'ounce': 314,\n",
       " 'popcorn': 315,\n",
       " 'amazing': 316,\n",
       " 'longer': 317,\n",
       " 'ordering': 318,\n",
       " 'plus': 319,\n",
       " 'seem': 320,\n",
       " 'open': 321,\n",
       " 'yet': 322,\n",
       " 'quick': 323,\n",
       " 'read': 324,\n",
       " 'cookie': 325,\n",
       " 'although': 326,\n",
       " 'serving': 327,\n",
       " 'took': 328,\n",
       " 'else': 329,\n",
       " 'anyone': 330,\n",
       " 'everything': 331,\n",
       " 'pieces': 332,\n",
       " 'rather': 333,\n",
       " 'glad': 334,\n",
       " 'baby': 335,\n",
       " 'spicy': 336,\n",
       " 'wheat': 337,\n",
       " 'mouth': 338,\n",
       " 'ginger': 339,\n",
       " 'cooking': 340,\n",
       " 'side': 341,\n",
       " 'roast': 342,\n",
       " 'meat': 343,\n",
       " 'fan': 344,\n",
       " 'week': 345,\n",
       " 'ice': 346,\n",
       " 'month': 347,\n",
       " 'help': 348,\n",
       " 'dried': 349,\n",
       " 'plastic': 350,\n",
       " 'crackers': 351,\n",
       " 'cinnamon': 352,\n",
       " 'second': 353,\n",
       " 'difference': 354,\n",
       " 'cold': 355,\n",
       " 'recipe': 356,\n",
       " 'everyone': 357,\n",
       " 'super': 358,\n",
       " 'type': 359,\n",
       " 'market': 360,\n",
       " 'son': 361,\n",
       " 'tell': 362,\n",
       " 'friends': 363,\n",
       " 'nuts': 364,\n",
       " 'thank': 365,\n",
       " 'cook': 366,\n",
       " 'mixed': 367,\n",
       " 'part': 368,\n",
       " 'value': 369,\n",
       " 'online': 370,\n",
       " 'fiber': 371,\n",
       " 'version': 372,\n",
       " 'weight': 373,\n",
       " 'sometimes': 374,\n",
       " 'noodles': 375,\n",
       " 'container': 376,\n",
       " 'flour': 377,\n",
       " 'overall': 378,\n",
       " 'brown': 379,\n",
       " 'thanks': 380,\n",
       " 'says': 381,\n",
       " 'life': 382,\n",
       " 'enjoyed': 383,\n",
       " 'believe': 384,\n",
       " 'opened': 385,\n",
       " 'end': 386,\n",
       " 'drinks': 387,\n",
       " 'crunchy': 388,\n",
       " 'slightly': 389,\n",
       " 'yummy': 390,\n",
       " 'easily': 391,\n",
       " 'jar': 392,\n",
       " 'goes': 393,\n",
       " 'etc': 394,\n",
       " 'lemon': 395,\n",
       " 'cake': 396,\n",
       " 'often': 397,\n",
       " 'oatmeal': 398,\n",
       " 'heat': 399,\n",
       " 'gum': 400,\n",
       " 'place': 401,\n",
       " 'reason': 402,\n",
       " 'exactly': 403,\n",
       " 'line': 404,\n",
       " 'spice': 405,\n",
       " 'daughter': 406,\n",
       " 'cut': 407,\n",
       " 'artificial': 408,\n",
       " 'likes': 409,\n",
       " 'hand': 410,\n",
       " 'left': 411,\n",
       " 'awesome': 412,\n",
       " 'pleased': 413,\n",
       " 'guess': 414,\n",
       " 'chew': 415,\n",
       " 'alternative': 416,\n",
       " 'wife': 417,\n",
       " 'gets': 418,\n",
       " 'plain': 419,\n",
       " 'soy': 420,\n",
       " 'machine': 421,\n",
       " 'smaller': 422,\n",
       " 'bowl': 423,\n",
       " 'surprised': 424,\n",
       " 'bottles': 425,\n",
       " 'start': 426,\n",
       " 'seeds': 427,\n",
       " 'care': 428,\n",
       " 'starbucks': 429,\n",
       " 'beef': 430,\n",
       " 'choice': 431,\n",
       " 'color': 432,\n",
       " 'sodium': 433,\n",
       " 'recently': 434,\n",
       " 'weeks': 435,\n",
       " 'original': 436,\n",
       " 'simply': 437,\n",
       " 'canned': 438,\n",
       " 'similar': 439,\n",
       " 'special': 440,\n",
       " 'salty': 441,\n",
       " 'ingredient': 442,\n",
       " 'giving': 443,\n",
       " 'caffeine': 444,\n",
       " 'cocoa': 445,\n",
       " 'orange': 446,\n",
       " 'friend': 447,\n",
       " 'aftertaste': 448,\n",
       " 'experience': 449,\n",
       " 'clean': 450,\n",
       " 'ground': 451,\n",
       " 'pay': 452,\n",
       " 'soda': 453,\n",
       " 'formula': 454,\n",
       " 'brew': 455,\n",
       " 'wrong': 456,\n",
       " 'four': 457,\n",
       " 'star': 458,\n",
       " 'french': 459,\n",
       " 'problems': 460,\n",
       " 'teeth': 461,\n",
       " 'aroma': 462,\n",
       " 'looked': 463,\n",
       " 'close': 464,\n",
       " 'pepper': 465,\n",
       " 'adding': 466,\n",
       " 'saw': 467,\n",
       " 'apple': 468,\n",
       " 'snacks': 469,\n",
       " 'inside': 470,\n",
       " 'huge': 471,\n",
       " 'packaged': 472,\n",
       " 'past': 473,\n",
       " 'course': 474,\n",
       " 'espresso': 475,\n",
       " 'service': 476,\n",
       " 'someone': 477,\n",
       " 'already': 478,\n",
       " 'live': 479,\n",
       " 'compared': 480,\n",
       " 'bite': 481,\n",
       " 'contains': 482,\n",
       " 'night': 483,\n",
       " 'hope': 484,\n",
       " 'flavorful': 485,\n",
       " 'single': 486,\n",
       " 'grain': 487,\n",
       " 'expected': 488,\n",
       " 'list': 489,\n",
       " 'finally': 490,\n",
       " 'run': 491,\n",
       " 'stick': 492,\n",
       " 'baking': 493,\n",
       " 'keurig': 494,\n",
       " 'chewy': 495,\n",
       " 'ate': 496,\n",
       " 'mild': 497,\n",
       " 'daily': 498,\n",
       " 'leaves': 499,\n",
       " 'instant': 500,\n",
       " 'decaf': 501,\n",
       " 'fantastic': 502,\n",
       " 'subscribe': 503,\n",
       " 'looks': 504,\n",
       " 'non': 505,\n",
       " 'change': 506,\n",
       " 'date': 507,\n",
       " 'yes': 508,\n",
       " 'idea': 509,\n",
       " 'unfortunately': 510,\n",
       " 'packs': 511,\n",
       " 'noticed': 512,\n",
       " 'gone': 513,\n",
       " 'delivery': 514,\n",
       " 'along': 515,\n",
       " 'granola': 516,\n",
       " 'glass': 517,\n",
       " 'lots': 518,\n",
       " 'fish': 519,\n",
       " 'needed': 520,\n",
       " 'bulk': 521,\n",
       " 'shipped': 522,\n",
       " 'bold': 523,\n",
       " 'olive': 524,\n",
       " 'convenient': 525,\n",
       " 'filling': 526,\n",
       " 'smells': 527,\n",
       " 'pound': 528,\n",
       " 'coffees': 529,\n",
       " 'items': 530,\n",
       " 'raw': 531,\n",
       " 'iced': 532,\n",
       " 'due': 533,\n",
       " 'based': 534,\n",
       " 'stock': 535,\n",
       " 'given': 536,\n",
       " 'hours': 537,\n",
       " 'done': 538,\n",
       " 'gives': 539,\n",
       " 'soon': 540,\n",
       " 'pot': 541,\n",
       " 'later': 542,\n",
       " 'stomach': 543,\n",
       " 'expect': 544,\n",
       " 'creamy': 545,\n",
       " 'body': 546,\n",
       " 'takes': 547,\n",
       " 'completely': 548,\n",
       " 'sent': 549,\n",
       " 'calorie': 550,\n",
       " 'feed': 551,\n",
       " 'label': 552,\n",
       " 'com': 553,\n",
       " 'sweetness': 554,\n",
       " 'rest': 555,\n",
       " 'extremely': 556,\n",
       " 'five': 557,\n",
       " 'bottom': 558,\n",
       " 'mine': 559,\n",
       " 'leave': 560,\n",
       " 'needs': 561,\n",
       " 'larger': 562,\n",
       " 'eaten': 563,\n",
       " 'mind': 564,\n",
       " 'sold': 565,\n",
       " 'packages': 566,\n",
       " 'please': 567,\n",
       " 'continue': 568,\n",
       " 'packet': 569,\n",
       " 'christmas': 570,\n",
       " 'thick': 571,\n",
       " 'excited': 572,\n",
       " 'recipes': 573,\n",
       " 'packets': 574,\n",
       " 'bean': 575,\n",
       " 'true': 576,\n",
       " 'together': 577,\n",
       " 'lunch': 578,\n",
       " 'waste': 579,\n",
       " 'certainly': 580,\n",
       " 'cheap': 581,\n",
       " 'blue': 582,\n",
       " 'helps': 583,\n",
       " 'carry': 584,\n",
       " 'salad': 585,\n",
       " 'dinner': 586,\n",
       " 'called': 587,\n",
       " 'seasoning': 588,\n",
       " 'liquid': 589,\n",
       " 'picky': 590,\n",
       " 'wait': 591,\n",
       " 'name': 592,\n",
       " 'pet': 593,\n",
       " 'seemed': 594,\n",
       " 'today': 595,\n",
       " 'chai': 596,\n",
       " 'within': 597,\n",
       " 'opinion': 598,\n",
       " 'skin': 599,\n",
       " 'pods': 600,\n",
       " 'world': 601,\n",
       " 'almond': 602,\n",
       " 'purchasing': 603,\n",
       " 'medium': 604,\n",
       " 'dish': 605,\n",
       " 'nut': 606,\n",
       " 'anyway': 607,\n",
       " 'packed': 608,\n",
       " 'content': 609,\n",
       " 'set': 610,\n",
       " 'sour': 611,\n",
       " 'point': 612,\n",
       " 'cooked': 613,\n",
       " 'entire': 614,\n",
       " 'note': 615,\n",
       " 'healthier': 616,\n",
       " 'grams': 617,\n",
       " 'seller': 618,\n",
       " 'jerky': 619,\n",
       " 'normal': 620,\n",
       " 'consistency': 621,\n",
       " 'vet': 622,\n",
       " 'told': 623,\n",
       " 'chili': 624,\n",
       " 'delivered': 625,\n",
       " 'easier': 626,\n",
       " 'difficult': 627,\n",
       " 'contain': 628,\n",
       " 'hint': 629,\n",
       " 'decent': 630,\n",
       " 'pure': 631,\n",
       " 'garlic': 632,\n",
       " 'customer': 633,\n",
       " 'remember': 634,\n",
       " 'batch': 635,\n",
       " 'truly': 636,\n",
       " 'pop': 637,\n",
       " 'addition': 638,\n",
       " 'microwave': 639,\n",
       " 'simple': 640,\n",
       " 'sweetener': 641,\n",
       " 'seen': 642,\n",
       " 'stop': 643,\n",
       " 'baked': 644,\n",
       " 'piece': 645,\n",
       " 'spices': 646,\n",
       " 'refreshing': 647,\n",
       " 'twice': 648,\n",
       " 'potato': 649,\n",
       " 'normally': 650,\n",
       " 'become': 651,\n",
       " 'area': 652,\n",
       " 'crunch': 653,\n",
       " 'stevia': 654,\n",
       " 'mixes': 655,\n",
       " 'sale': 656,\n",
       " 'issues': 657,\n",
       " 'maker': 658,\n",
       " 'lower': 659,\n",
       " 'reading': 660,\n",
       " 'substitute': 661,\n",
       " 'results': 662,\n",
       " 'clear': 663,\n",
       " 'break': 664,\n",
       " 'benefits': 665,\n",
       " 'discovered': 666,\n",
       " 'hit': 667,\n",
       " 'pick': 668,\n",
       " 'tuna': 669,\n",
       " 'stopped': 670,\n",
       " 'worked': 671,\n",
       " 'licorice': 672,\n",
       " 'unless': 673,\n",
       " 'particular': 674,\n",
       " 'fun': 675,\n",
       " 'tiny': 676,\n",
       " 'cherry': 677,\n",
       " 'locally': 678,\n",
       " 'thin': 679,\n",
       " 'broken': 680,\n",
       " 'immediately': 681,\n",
       " 'stay': 682,\n",
       " 'weak': 683,\n",
       " 'mint': 684,\n",
       " 'taking': 685,\n",
       " 'vitamin': 686,\n",
       " 'anywhere': 687,\n",
       " 'felt': 688,\n",
       " 'totally': 689,\n",
       " 'almonds': 690,\n",
       " 'none': 691,\n",
       " 'pleasant': 692,\n",
       " 'description': 693,\n",
       " 'person': 694,\n",
       " 'caramel': 695,\n",
       " 'bland': 696,\n",
       " 'count': 697,\n",
       " 'six': 698,\n",
       " 'anymore': 699,\n",
       " 'throw': 700,\n",
       " 'option': 701,\n",
       " 'feeding': 702,\n",
       " 'okay': 703,\n",
       " 'yogurt': 704,\n",
       " 'roasted': 705,\n",
       " 'turned': 706,\n",
       " 'thinking': 707,\n",
       " 'stale': 708,\n",
       " 'means': 709,\n",
       " 'keeps': 710,\n",
       " 'shipment': 711,\n",
       " 'sell': 712,\n",
       " 'kitchen': 713,\n",
       " 'check': 714,\n",
       " 'serve': 715,\n",
       " 'perhaps': 716,\n",
       " 'strawberry': 717,\n",
       " 'finding': 718,\n",
       " 'ready': 719,\n",
       " 'loose': 720,\n",
       " 'warm': 721,\n",
       " 'shop': 722,\n",
       " 'issue': 723,\n",
       " 'nutrition': 724,\n",
       " 'perfectly': 725,\n",
       " 'acid': 726,\n",
       " 'plan': 727,\n",
       " 'call': 728,\n",
       " 'reasonable': 729,\n",
       " 'feeling': 730,\n",
       " 'higher': 731,\n",
       " 'condition': 732,\n",
       " 'pumpkin': 733,\n",
       " 'short': 734,\n",
       " 'combination': 735,\n",
       " 'uses': 736,\n",
       " 'bring': 737,\n",
       " 'varieties': 738,\n",
       " 'matter': 739,\n",
       " 'nearly': 740,\n",
       " 'somewhat': 741,\n",
       " 'satisfying': 742,\n",
       " 'future': 743,\n",
       " 'website': 744,\n",
       " 'mess': 745,\n",
       " 'finish': 746,\n",
       " 'chip': 747,\n",
       " 'mom': 748,\n",
       " 'heavy': 749,\n",
       " 'expecting': 750,\n",
       " 'otherwise': 751,\n",
       " 'salmon': 752,\n",
       " 'sauces': 753,\n",
       " 'notice': 754,\n",
       " 'moist': 755,\n",
       " 'carb': 756,\n",
       " 'wow': 757,\n",
       " 'sort': 758,\n",
       " 'total': 759,\n",
       " 'oats': 760,\n",
       " 'mostly': 761,\n",
       " 'hour': 762,\n",
       " 'unlike': 763,\n",
       " 'carbs': 764,\n",
       " 'hooked': 765,\n",
       " 'homemade': 766,\n",
       " 'supermarket': 767,\n",
       " 'eats': 768,\n",
       " 'candies': 769,\n",
       " 'hoping': 770,\n",
       " 'horrible': 771,\n",
       " 'reviewer': 772,\n",
       " 'sticks': 773,\n",
       " 'summer': 774,\n",
       " 'peanuts': 775,\n",
       " 'whatever': 776,\n",
       " 'brewed': 777,\n",
       " 'terrible': 778,\n",
       " 'impressed': 779,\n",
       " 'jars': 780,\n",
       " 'supposed': 781,\n",
       " 'kick': 782,\n",
       " 'changed': 783,\n",
       " 'eggs': 784,\n",
       " 'shelf': 785,\n",
       " 'return': 786,\n",
       " 'straight': 787,\n",
       " 'beat': 788,\n",
       " 'pour': 789,\n",
       " 'hands': 790,\n",
       " 'style': 791,\n",
       " 'banana': 792,\n",
       " 'touch': 793,\n",
       " 'wine': 794,\n",
       " 'forward': 795,\n",
       " 'prices': 796,\n",
       " 'listed': 797,\n",
       " 'priced': 798,\n",
       " 'pricey': 799,\n",
       " 'balance': 800,\n",
       " 'awful': 801,\n",
       " 'number': 802,\n",
       " 'crazy': 803,\n",
       " 'picture': 804,\n",
       " 'avoid': 805,\n",
       " 'puppy': 806,\n",
       " 'veggies': 807,\n",
       " 'yum': 808,\n",
       " 'near': 809,\n",
       " 'reviewers': 810,\n",
       " 'vegetables': 811,\n",
       " 'paid': 812,\n",
       " 'types': 813,\n",
       " 'fairly': 814,\n",
       " 'source': 815,\n",
       " 'adds': 816,\n",
       " 'meals': 817,\n",
       " 'nutritional': 818,\n",
       " 'italian': 819,\n",
       " 'chewing': 820,\n",
       " 'satisfied': 821,\n",
       " 'directions': 822,\n",
       " 'shampoo': 823,\n",
       " 'beverage': 824,\n",
       " 'vinegar': 825,\n",
       " 'job': 826,\n",
       " 'dishes': 827,\n",
       " 'gourmet': 828,\n",
       " 'wrapped': 829,\n",
       " 'instructions': 830,\n",
       " 'switch': 831,\n",
       " 'agree': 832,\n",
       " 'except': 833,\n",
       " 'individual': 834,\n",
       " 'including': 835,\n",
       " 'flavoring': 836,\n",
       " 'vitamins': 837,\n",
       " 'stronger': 838,\n",
       " 'pancakes': 839,\n",
       " 'chews': 840,\n",
       " 'usual': 841,\n",
       " 'mountain': 842,\n",
       " 'blood': 843,\n",
       " 'mother': 844,\n",
       " 'stir': 845,\n",
       " 'control': 846,\n",
       " 'children': 847,\n",
       " 'consider': 848,\n",
       " 'knew': 849,\n",
       " 'ended': 850,\n",
       " 'turn': 851,\n",
       " 'double': 852,\n",
       " 'office': 853,\n",
       " 'outside': 854,\n",
       " 'kept': 855,\n",
       " 'hold': 856,\n",
       " 'room': 857,\n",
       " 'plant': 858,\n",
       " 'sealed': 859,\n",
       " 'fit': 860,\n",
       " 'fair': 861,\n",
       " 'coming': 862,\n",
       " 'toy': 863,\n",
       " 'overly': 864,\n",
       " 'drinker': 865,\n",
       " 'vegan': 866,\n",
       " 'extract': 867,\n",
       " 'allergies': 868,\n",
       " 'ounces': 869,\n",
       " 'shape': 870,\n",
       " 'sea': 871,\n",
       " 'heard': 872,\n",
       " 'personally': 873,\n",
       " 'cause': 874,\n",
       " 'tomato': 875,\n",
       " 'cool': 876,\n",
       " 'pounds': 877,\n",
       " 'bits': 878,\n",
       " 'grains': 879,\n",
       " 'splenda': 880,\n",
       " 'nicely': 881,\n",
       " 'maple': 882,\n",
       " 'opening': 883,\n",
       " 'costco': 884,\n",
       " 'important': 885,\n",
       " 'china': 886,\n",
       " 'convenience': 887,\n",
       " 'hate': 888,\n",
       " 'peach': 889,\n",
       " 'compare': 890,\n",
       " 'dressing': 891,\n",
       " 'alone': 892,\n",
       " 'shake': 893,\n",
       " 'replacement': 894,\n",
       " 'favorites': 895,\n",
       " 'kid': 896,\n",
       " 'fridge': 897,\n",
       " 'restaurant': 898,\n",
       " 'brought': 899,\n",
       " 'brewing': 900,\n",
       " 'wet': 901,\n",
       " 'putting': 902,\n",
       " 'level': 903,\n",
       " 'send': 904,\n",
       " 'dont': 905,\n",
       " 'traditional': 906,\n",
       " 'across': 907,\n",
       " 'door': 908,\n",
       " 'supply': 909,\n",
       " 'form': 910,\n",
       " 'mean': 911,\n",
       " 'sweetened': 912,\n",
       " 'curry': 913,\n",
       " 'filled': 914,\n",
       " 'actual': 915,\n",
       " 'subtle': 916,\n",
       " 'egg': 917,\n",
       " 'research': 918,\n",
       " 'sized': 919,\n",
       " 'plenty': 920,\n",
       " 'imagine': 921,\n",
       " 'sick': 922,\n",
       " 'process': 923,\n",
       " 'upon': 924,\n",
       " 'jelly': 925,\n",
       " 'standard': 926,\n",
       " 'sensitive': 927,\n",
       " 'paper': 928,\n",
       " 'unique': 929,\n",
       " 'lime': 930,\n",
       " 'suggest': 931,\n",
       " 'update': 932,\n",
       " 'bake': 933,\n",
       " 'expiration': 934,\n",
       " 'pizza': 935,\n",
       " 'surprise': 936,\n",
       " 'soups': 937,\n",
       " 'chance': 938,\n",
       " 'sitting': 939,\n",
       " 'sample': 940,\n",
       " 'cracker': 941,\n",
       " 'carrying': 942,\n",
       " 'pan': 943,\n",
       " 'spread': 944,\n",
       " 'ask': 945,\n",
       " 'served': 946,\n",
       " 'tree': 947,\n",
       " 'share': 948,\n",
       " 'possible': 949,\n",
       " 'various': 950,\n",
       " 'afternoon': 951,\n",
       " 'leaf': 952,\n",
       " 'premium': 953,\n",
       " 'slight': 954,\n",
       " 'frozen': 955,\n",
       " 'thrilled': 956,\n",
       " 'fill': 957,\n",
       " 'air': 958,\n",
       " 'potatoes': 959,\n",
       " 'hazelnut': 960,\n",
       " 'rating': 961,\n",
       " 'whether': 962,\n",
       " 'offered': 963,\n",
       " 'everyday': 964,\n",
       " 'nature': 965,\n",
       " 'offer': 966,\n",
       " 'party': 967,\n",
       " 'stuck': 968,\n",
       " 'raspberry': 969,\n",
       " 'subscription': 970,\n",
       " 'prepare': 971,\n",
       " 'result': 972,\n",
       " 'bones': 973,\n",
       " 'known': 974,\n",
       " 'mixing': 975,\n",
       " 'stand': 976,\n",
       " 'test': 977,\n",
       " 'tend': 978,\n",
       " 'complaint': 979,\n",
       " 'switched': 980,\n",
       " 'figured': 981,\n",
       " 'mango': 982,\n",
       " 'main': 983,\n",
       " 'understand': 984,\n",
       " 'kinds': 985,\n",
       " 'selling': 986,\n",
       " 'base': 987,\n",
       " 'lbs': 988,\n",
       " 'worst': 989,\n",
       " 'ship': 990,\n",
       " 'system': 991,\n",
       " 'processed': 992,\n",
       " 'american': 993,\n",
       " 'weird': 994,\n",
       " 'overpowering': 995,\n",
       " 'servings': 996,\n",
       " 'scent': 997,\n",
       " 'beautiful': 998,\n",
       " 'crisp': 999,\n",
       " 'lost': 1000,\n",
       " ...}"
      ]
     },
     "execution_count": 52,
     "metadata": {},
     "output_type": "execute_result"
    }
   ],
   "source": [
    "(x_tokenizer.word_index)"
   ]
  },
  {
   "cell_type": "markdown",
   "metadata": {},
   "source": [
    "• Summary Tokenizer"
   ]
  },
  {
   "cell_type": "code",
   "execution_count": 53,
   "metadata": {},
   "outputs": [],
   "source": [
    "#preparing a tokenizer for summary on training data \n",
    "y_tokenizer = Tokenizer()\n",
    "y_tokenizer.fit_on_texts(list(y_tr))\n",
    "\n",
    "#convert summary sequences into integer sequences\n",
    "y_tr    =   y_tokenizer.texts_to_sequences(y_tr) \n",
    "y_val   =   y_tokenizer.texts_to_sequences(y_val) \n",
    "\n",
    "#padding zero upto maximum length\n",
    "y_tr    =   pad_sequences(y_tr, maxlen=max_len_summary, padding='post')\n",
    "y_val   =   pad_sequences(y_val, maxlen=max_len_summary, padding='post')\n",
    "\n",
    "y_voc_size  =   len(y_tokenizer.word_index) +1"
   ]
  },
  {
   "cell_type": "markdown",
   "metadata": {},
   "source": [
    "#### Model building\n",
    "Defining some important terms:\n",
    "\n",
    "Return Sequences = True: When the return sequences parameter is set to True, LSTM produces the hidden state and cell state for every timestep\n",
    "\n",
    "Return State = True: When return state = True, LSTM produces the hidden state and cell state of the last timestep only\n",
    "Initial State: This is used to initialize the internal states of the LSTM for the first timestep\n",
    "\n",
    "Stacked LSTM: Stacked LSTM has multiple layers of LSTM stacked on top of each other. This leads to a better representation of the sequence. I encourage you to experiment with the multiple layers of the LSTM stacked on top of each other (it’s a great way to learn this)\n",
    "\n",
    "Here, we are building a 3 stacked LSTM for the encoder:"
   ]
  },
  {
   "cell_type": "code",
   "execution_count": 54,
   "metadata": {},
   "outputs": [
    {
     "name": "stdout",
     "output_type": "stream",
     "text": [
      "WARNING:tensorflow:From C:\\Users\\LENOVO\\Anaconda3\\lib\\site-packages\\tensorflow_core\\python\\keras\\initializers.py:119: calling RandomUniform.__init__ (from tensorflow.python.ops.init_ops) with dtype is deprecated and will be removed in a future version.\n",
      "Instructions for updating:\n",
      "Call initializer instance with the dtype argument instead of passing it to the constructor\n",
      "WARNING:tensorflow:From C:\\Users\\LENOVO\\Anaconda3\\lib\\site-packages\\tensorflow_core\\python\\ops\\resource_variable_ops.py:1630: calling BaseResourceVariable.__init__ (from tensorflow.python.ops.resource_variable_ops) with constraint is deprecated and will be removed in a future version.\n",
      "Instructions for updating:\n",
      "If using Keras pass *_constraint arguments to layers.\n"
     ]
    }
   ],
   "source": [
    "from keras import backend as K \n",
    "K.clear_session() \n",
    "latent_dim = 500 \n",
    "\n",
    "# Encoder \n",
    "encoder_inputs = Input(shape=(max_len_text,)) \n",
    "enc_emb = Embedding(x_voc_size, latent_dim,trainable=True)(encoder_inputs) \n",
    "\n",
    "#LSTM 1 \n",
    "encoder_lstm1 = LSTM(latent_dim,return_sequences=True,return_state=True) \n",
    "encoder_output1, state_h1, state_c1 = encoder_lstm1(enc_emb) \n",
    "\n",
    "#LSTM 2 \n",
    "encoder_lstm2 = LSTM(latent_dim,return_sequences=True,return_state=True) \n",
    "encoder_output2, state_h2, state_c2 = encoder_lstm2(encoder_output1) \n",
    "\n",
    "#LSTM 3 \n",
    "encoder_lstm3=LSTM(latent_dim, return_state=True, return_sequences=True) \n",
    "encoder_outputs, state_h, state_c= encoder_lstm3(encoder_output2) \n",
    "\n"
   ]
  },
  {
   "cell_type": "code",
   "execution_count": 56,
   "metadata": {},
   "outputs": [],
   "source": [
    "# Set up the decoder. \n",
    "decoder_inputs = Input(shape=(None,)) \n",
    "dec_emb_layer = Embedding(y_voc_size, latent_dim,trainable=True) \n",
    "dec_emb = dec_emb_layer(decoder_inputs) \n",
    "\n",
    "#LSTM using encoder_states as initial state\n",
    "decoder_lstm = LSTM(latent_dim, return_sequences=True, return_state=True) \n",
    "decoder_outputs,decoder_fwd_state, decoder_back_state = decoder_lstm(dec_emb,initial_state=[state_h, state_c]) \n",
    "\n",
    "#Attention Layer\n",
    "#Attention layer \n",
    "attn_layer = AttentionLayer(name='attention_layer') \n",
    "attn_out, attn_states = attn_layer([encoder_outputs, decoder_outputs]) \n",
    "\n",
    "# Concat attention output and decoder LSTM output \n",
    "decoder_concat_input = Concatenate(axis=-1, name='concat_layer')([decoder_outputs, attn_out])\n",
    "\n",
    "#Dense layer\n",
    "decoder_dense = TimeDistributed(Dense(y_voc_size, activation='softmax')) \n",
    "decoder_outputs = decoder_dense(decoder_concat_input) \n",
    "\n"
   ]
  },
  {
   "cell_type": "code",
   "execution_count": 57,
   "metadata": {},
   "outputs": [
    {
     "name": "stdout",
     "output_type": "stream",
     "text": [
      "Model: \"model\"\n",
      "__________________________________________________________________________________________________\n",
      "Layer (type)                    Output Shape         Param #     Connected to                     \n",
      "==================================================================================================\n",
      "input_1 (InputLayer)            [(None, 80)]         0                                            \n",
      "__________________________________________________________________________________________________\n",
      "embedding (Embedding)           (None, 80, 500)      57339000    input_1[0][0]                    \n",
      "__________________________________________________________________________________________________\n",
      "lstm (LSTM)                     [(None, 80, 500), (N 2002000     embedding[0][0]                  \n",
      "__________________________________________________________________________________________________\n",
      "input_2 (InputLayer)            [(None, None)]       0                                            \n",
      "__________________________________________________________________________________________________\n",
      "lstm_1 (LSTM)                   [(None, 80, 500), (N 2002000     lstm[0][0]                       \n",
      "__________________________________________________________________________________________________\n",
      "embedding_1 (Embedding)         (None, None, 500)    15515000    input_2[0][0]                    \n",
      "__________________________________________________________________________________________________\n",
      "lstm_2 (LSTM)                   [(None, 80, 500), (N 2002000     lstm_1[0][0]                     \n",
      "__________________________________________________________________________________________________\n",
      "lstm_3 (LSTM)                   [(None, None, 500),  2002000     embedding_1[0][0]                \n",
      "                                                                 lstm_2[0][1]                     \n",
      "                                                                 lstm_2[0][2]                     \n",
      "__________________________________________________________________________________________________\n",
      "attention_layer (AttentionLayer ((None, None, 500),  500500      lstm_2[0][0]                     \n",
      "                                                                 lstm_3[0][0]                     \n",
      "__________________________________________________________________________________________________\n",
      "concat_layer (Concatenate)      (None, None, 1000)   0           lstm_3[0][0]                     \n",
      "                                                                 attention_layer[0][0]            \n",
      "__________________________________________________________________________________________________\n",
      "time_distributed (TimeDistribut (None, None, 31030)  31061030    concat_layer[0][0]               \n",
      "==================================================================================================\n",
      "Total params: 112,423,530\n",
      "Trainable params: 112,423,530\n",
      "Non-trainable params: 0\n",
      "__________________________________________________________________________________________________\n"
     ]
    }
   ],
   "source": [
    "# Define the model\n",
    "model = Model([encoder_inputs, decoder_inputs], decoder_outputs) \n",
    "model.summary()"
   ]
  },
  {
   "cell_type": "code",
   "execution_count": 58,
   "metadata": {},
   "outputs": [],
   "source": [
    "model.compile(optimizer='rmsprop', loss='sparse_categorical_crossentropy')"
   ]
  },
  {
   "cell_type": "markdown",
   "metadata": {},
   "source": [
    "Early Stopping used to stop training the neural network at the right time by monitoring a user-specified metric. Here, we are monitoring the validation loss (val_loss). Our model will stop training once the validation loss increases"
   ]
  },
  {
   "cell_type": "code",
   "execution_count": 60,
   "metadata": {},
   "outputs": [],
   "source": [
    "es = EarlyStopping(monitor='val_loss', mode='min', verbose=1)  ##Mode = min means model will stop training when the quantity monitored starts to increase"
   ]
  },
  {
   "cell_type": "code",
   "execution_count": null,
   "metadata": {},
   "outputs": [
    {
     "name": "stdout",
     "output_type": "stream",
     "text": [
      "WARNING:tensorflow:From C:\\Users\\LENOVO\\Anaconda3\\lib\\site-packages\\tensorflow_core\\python\\ops\\math_grad.py:1424: where (from tensorflow.python.ops.array_ops) is deprecated and will be removed in a future version.\n",
      "Instructions for updating:\n",
      "Use tf.where in 2.0, which has the same broadcast rule as np.where\n",
      "Train on 353899 samples, validate on 39323 samples\n",
      "Epoch 1/50\n"
     ]
    }
   ],
   "source": [
    "history = model.fit([x_tr,y_tr[:,:-1]], y_tr.reshape(y_tr.shape[0],y_tr.shape[1], 1)[:,1:] ,epochs=10,callbacks=[es],batch_size=512, validation_data=([x_val,y_val[:,:-1]], y_val.reshape(y_val.shape[0],y_val.shape[1], 1)[:,1:]))"
   ]
  },
  {
   "cell_type": "code",
   "execution_count": 61,
   "metadata": {},
   "outputs": [
    {
     "data": {
      "text/plain": [
       "array([[   1,  184,    2, ...,    0,    0,    0],\n",
       "       [   1, 3817, 5623, ...,    0,    0,    0],\n",
       "       [   1, 4885, 4667, ...,    0,    0,    0],\n",
       "       ...,\n",
       "       [   1,    9,   70, ...,    0,    0,    0],\n",
       "       [  10,  506,   73, ..., 7077,   39,  269],\n",
       "       [   1,  153, 2242, ...,    0,    0,    0]])"
      ]
     },
     "execution_count": 61,
     "metadata": {},
     "output_type": "execute_result"
    }
   ],
   "source": [
    "y_tr[:,:-1]"
   ]
  },
  {
   "cell_type": "code",
   "execution_count": 63,
   "metadata": {},
   "outputs": [
    {
     "data": {
      "text/plain": [
       "(353899, 10)"
      ]
     },
     "execution_count": 63,
     "metadata": {},
     "output_type": "execute_result"
    }
   ],
   "source": [
    "y_tr.shape"
   ]
  },
  {
   "cell_type": "code",
   "execution_count": null,
   "metadata": {},
   "outputs": [],
   "source": []
  }
 ],
 "metadata": {
  "kernelspec": {
   "display_name": "Python 3",
   "language": "python",
   "name": "python3"
  },
  "language_info": {
   "codemirror_mode": {
    "name": "ipython",
    "version": 3
   },
   "file_extension": ".py",
   "mimetype": "text/x-python",
   "name": "python",
   "nbconvert_exporter": "python",
   "pygments_lexer": "ipython3",
   "version": "3.7.7"
  }
 },
 "nbformat": 4,
 "nbformat_minor": 4
}
